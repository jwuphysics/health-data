{
 "cells": [
  {
   "cell_type": "markdown",
   "metadata": {},
   "source": [
    "# A first glance at the dataset\n",
    "\n",
    "### Background\n",
    "I attended (and judged) the 2017 Rutgers ARESTY research symposium, and one of the posters showed some interesting results regarding disparaties in access to health; specifically, there was a correlation between waiting times in health care facilities and ethnicity. I decided to check out the data myself (which, if I recall correctly, are from the Medicare Current Beneficiary Survey from 2013), and see what other interesting tidbits were in there."
   ]
  },
  {
   "cell_type": "code",
   "execution_count": 1,
   "metadata": {
    "collapsed": true
   },
   "outputs": [],
   "source": [
    "from IPython.display import display_pretty\n",
    "import matplotlib.pyplot as plt\n",
    "import numpy as np\n",
    "import os\n",
    "import pandas as pd\n",
    "%matplotlib inline"
   ]
  },
  {
   "cell_type": "code",
   "execution_count": 2,
   "metadata": {
    "collapsed": true
   },
   "outputs": [],
   "source": [
    "mcbs_datafile = os.path.join(os.getcwd(), '..', 'data', 'ATCPUF13.csv')\n",
    "df = pd.read_csv(mcbs_datafile)"
   ]
  },
  {
   "cell_type": "code",
   "execution_count": 3,
   "metadata": {
    "collapsed": false
   },
   "outputs": [
    {
     "data": {
      "text/html": [
       "<div>\n",
       "<table border=\"1\" class=\"dataframe\">\n",
       "  <thead>\n",
       "    <tr style=\"text-align: right;\">\n",
       "      <th></th>\n",
       "      <th>PUF_ID</th>\n",
       "      <th>SVYYR</th>\n",
       "      <th>IV_AGE</th>\n",
       "      <th>IV_SEX</th>\n",
       "      <th>IV_RACE</th>\n",
       "      <th>D_RE_AGE</th>\n",
       "      <th>D_ARMED</th>\n",
       "      <th>D_INCOME</th>\n",
       "      <th>D_INC_IMP</th>\n",
       "      <th>D_EDU</th>\n",
       "      <th>...</th>\n",
       "      <th>CS1YR091</th>\n",
       "      <th>CS1YR092</th>\n",
       "      <th>CS1YR093</th>\n",
       "      <th>CS1YR094</th>\n",
       "      <th>CS1YR095</th>\n",
       "      <th>CS1YR096</th>\n",
       "      <th>CS1YR097</th>\n",
       "      <th>CS1YR098</th>\n",
       "      <th>CS1YR099</th>\n",
       "      <th>CS1YR100</th>\n",
       "    </tr>\n",
       "  </thead>\n",
       "  <tbody>\n",
       "    <tr>\n",
       "      <th>0</th>\n",
       "      <td>21892</td>\n",
       "      <td>2013</td>\n",
       "      <td>1</td>\n",
       "      <td>1</td>\n",
       "      <td>1</td>\n",
       "      <td>1</td>\n",
       "      <td>2.0</td>\n",
       "      <td>1</td>\n",
       "      <td>1</td>\n",
       "      <td>2</td>\n",
       "      <td>...</td>\n",
       "      <td>226</td>\n",
       "      <td>288</td>\n",
       "      <td>295</td>\n",
       "      <td>283</td>\n",
       "      <td>222</td>\n",
       "      <td>265</td>\n",
       "      <td>261</td>\n",
       "      <td>286</td>\n",
       "      <td>230</td>\n",
       "      <td>273</td>\n",
       "    </tr>\n",
       "    <tr>\n",
       "      <th>1</th>\n",
       "      <td>13193</td>\n",
       "      <td>2013</td>\n",
       "      <td>2</td>\n",
       "      <td>1</td>\n",
       "      <td>1</td>\n",
       "      <td>2</td>\n",
       "      <td>1.0</td>\n",
       "      <td>1</td>\n",
       "      <td>1</td>\n",
       "      <td>1</td>\n",
       "      <td>...</td>\n",
       "      <td>4649</td>\n",
       "      <td>3913</td>\n",
       "      <td>5101</td>\n",
       "      <td>3893</td>\n",
       "      <td>4632</td>\n",
       "      <td>721</td>\n",
       "      <td>4595</td>\n",
       "      <td>3936</td>\n",
       "      <td>4163</td>\n",
       "      <td>3899</td>\n",
       "    </tr>\n",
       "    <tr>\n",
       "      <th>2</th>\n",
       "      <td>29011</td>\n",
       "      <td>2013</td>\n",
       "      <td>3</td>\n",
       "      <td>2</td>\n",
       "      <td>1</td>\n",
       "      <td>3</td>\n",
       "      <td>2.0</td>\n",
       "      <td>2</td>\n",
       "      <td>1</td>\n",
       "      <td>2</td>\n",
       "      <td>...</td>\n",
       "      <td>4725</td>\n",
       "      <td>4659</td>\n",
       "      <td>865</td>\n",
       "      <td>990</td>\n",
       "      <td>4765</td>\n",
       "      <td>4904</td>\n",
       "      <td>801</td>\n",
       "      <td>899</td>\n",
       "      <td>5231</td>\n",
       "      <td>4927</td>\n",
       "    </tr>\n",
       "    <tr>\n",
       "      <th>3</th>\n",
       "      <td>18152</td>\n",
       "      <td>2013</td>\n",
       "      <td>3</td>\n",
       "      <td>2</td>\n",
       "      <td>1</td>\n",
       "      <td>3</td>\n",
       "      <td>2.0</td>\n",
       "      <td>2</td>\n",
       "      <td>1</td>\n",
       "      <td>3</td>\n",
       "      <td>...</td>\n",
       "      <td>2411</td>\n",
       "      <td>10760</td>\n",
       "      <td>11040</td>\n",
       "      <td>1935</td>\n",
       "      <td>2278</td>\n",
       "      <td>10383</td>\n",
       "      <td>2096</td>\n",
       "      <td>11377</td>\n",
       "      <td>12775</td>\n",
       "      <td>1715</td>\n",
       "    </tr>\n",
       "    <tr>\n",
       "      <th>4</th>\n",
       "      <td>32650</td>\n",
       "      <td>2013</td>\n",
       "      <td>3</td>\n",
       "      <td>2</td>\n",
       "      <td>1</td>\n",
       "      <td>4</td>\n",
       "      <td>2.0</td>\n",
       "      <td>2</td>\n",
       "      <td>1</td>\n",
       "      <td>1</td>\n",
       "      <td>...</td>\n",
       "      <td>736</td>\n",
       "      <td>3771</td>\n",
       "      <td>4481</td>\n",
       "      <td>618</td>\n",
       "      <td>710</td>\n",
       "      <td>4039</td>\n",
       "      <td>791</td>\n",
       "      <td>3616</td>\n",
       "      <td>4166</td>\n",
       "      <td>720</td>\n",
       "    </tr>\n",
       "  </tbody>\n",
       "</table>\n",
       "<p>5 rows × 459 columns</p>\n",
       "</div>"
      ],
      "text/plain": [
       "   PUF_ID  SVYYR  IV_AGE  IV_SEX  IV_RACE  D_RE_AGE  D_ARMED  D_INCOME  \\\n",
       "0   21892   2013       1       1        1         1      2.0         1   \n",
       "1   13193   2013       2       1        1         2      1.0         1   \n",
       "2   29011   2013       3       2        1         3      2.0         2   \n",
       "3   18152   2013       3       2        1         3      2.0         2   \n",
       "4   32650   2013       3       2        1         4      2.0         2   \n",
       "\n",
       "   D_INC_IMP  D_EDU    ...     CS1YR091  CS1YR092  CS1YR093  CS1YR094  \\\n",
       "0          1      2    ...          226       288       295       283   \n",
       "1          1      1    ...         4649      3913      5101      3893   \n",
       "2          1      2    ...         4725      4659       865       990   \n",
       "3          1      3    ...         2411     10760     11040      1935   \n",
       "4          1      1    ...          736      3771      4481       618   \n",
       "\n",
       "   CS1YR095  CS1YR096  CS1YR097  CS1YR098  CS1YR099  CS1YR100  \n",
       "0       222       265       261       286       230       273  \n",
       "1      4632       721      4595      3936      4163      3899  \n",
       "2      4765      4904       801       899      5231      4927  \n",
       "3      2278     10383      2096     11377     12775      1715  \n",
       "4       710      4039       791      3616      4166       720  \n",
       "\n",
       "[5 rows x 459 columns]"
      ]
     },
     "execution_count": 3,
     "metadata": {},
     "output_type": "execute_result"
    }
   ],
   "source": [
    "df.head()"
   ]
  },
  {
   "cell_type": "markdown",
   "metadata": {},
   "source": [
    "Okay, 459 columns is a lot. Also, everything has been encoded so that's a bit of a pain in the butt to examine. However, we can look at the documentation in order to make sense of it. First, let's try to replicate the results that I had seen, which involved the two main variables *ethnicity* and *waiting time*. Table 1 of the user guide suggests that the race group will be preceded with `IV_`, and that waiting time will probably be preceded by `ACC_`. \n",
    "\n",
    "I'll later probably want to pull demographic information such as income, education, etc."
   ]
  },
  {
   "cell_type": "code",
   "execution_count": 4,
   "metadata": {
    "collapsed": false
   },
   "outputs": [
    {
     "name": "stdout",
     "output_type": "stream",
     "text": [
      "['AGE', 'SEX', 'RACE']\n",
      "['OPDFLAG', 'OPDMCOND', 'OPDTESTS', 'OPDFOLUP', 'OPDCHKUP', 'OPDRFRL', 'OPDSURGY', 'OPDPSHOT', 'OPDTSHOT', 'OPDPMED', 'OPDOTHER', 'OPDAPPT', 'OPDDRTEL', 'D_OPAPPT', 'D_OPTIME', 'MDSPCLTY', 'MDFLAG', 'MDAPPT', 'MDDRTEL', 'D_MDAPPT', 'D_MDTIME', 'HCTROUBL', 'HCDELAY', 'MCQUALTY', 'MCAVAIL', 'MCEASE', 'MCCOSTS', 'MCINFO', 'MCFOLUP', 'MCCONCRN', 'MCSAMLO', 'MCSPECAR', 'MCTELANS', 'MCAMTPAY', 'MCDRGLST', 'MCFNDPCY', 'MCRECPLN', 'DHEVHEAR', 'DHPLAN', 'DHTHISYR', 'DHSTART', 'DHEND', 'DHWORRY', 'MCDISSFY', 'MCWORRY', 'MCAVOID', 'MCSICK', 'MCDRSOON', 'MCDRNSEE', 'MCDRATMP', 'SCRMAIN', 'PMNOTGET', 'GENERRX', 'MAILRX', 'DOSESRX', 'SKIPRX', 'DELAYRX', 'SAMPLERX', 'OMPARRX', 'NOFILLRX', 'SPENTLRX', 'HAINRX', 'STOPRX', 'REDRX', 'NOINSRX', 'PLACEPAR', 'PLACEKND', 'PLACEMCP', 'USUALDO', 'MDSPE', 'GETUSHOW', 'D_GETUS', 'OMPUS', 'D_ACCREL', 'USHOWLNG', 'PREVMED', 'USCKEVRY', 'USCOMPET', 'USUNHIST', 'USUNWRNG', 'USHURRY', 'USEXPPRB', 'USDISCUS', 'USFAVOR', 'USTELALL', 'USANSQUX', 'USCONFID', 'USDEPEND', 'NUSNOTSK', 'NUSMOVIN', 'NUSAVAIL', 'NUSDIFFP', 'NUSTOOFR', 'NUSTOOEX', 'MDMCOND', 'MDTESTS', 'MDFOLUP', 'MDCHKUP', 'MDRFRL', 'MDSURGY', 'MDPSHOT', 'MDTSHOT', 'MDPMED', 'MDOTHER', 'WRITE', 'EXPDR', 'EXPSP', 'SKQS', 'TRANS', 'PPTS', 'MORAL', 'DRIVE', 'HELP', 'OTHER']\n"
     ]
    }
   ],
   "source": [
    "print([k.strip('IV_') for k in df.keys() if k.startswith(('IV_'))])\n",
    "print([k.strip('ACC_') for k in df.keys() if k.startswith(('ACC_'))])"
   ]
  },
  {
   "cell_type": "markdown",
   "metadata": {},
   "source": [
    "There are still quite a few variables here. Obviously ethnicity/race is encoded as `IV_RACE`. By reading the accompanying `.txt` file, I see that `ACC_D_GETUS` is the only variable encoded in the `minsfmt` format, where:\n",
    "    \n",
    "     .='Missing'\n",
    "     1='1:0 to 15 mins'\n",
    "     2='2:16 to 30 mins'\n",
    "     3='3:31 to 59 mins'\n",
    "     4='4:60 to 119 mins'\n",
    "     5='4:2 hours or more'\n",
    "    -7='-7:Refused'\n",
    "    -8=\"-8:Don't know\"\n",
    "    -9='-9:Not ascertained';"
   ]
  },
  {
   "cell_type": "code",
   "execution_count": 5,
   "metadata": {
    "collapsed": false
   },
   "outputs": [
    {
     "name": "stdout",
     "output_type": "stream",
     "text": [
      "       race      wait_time\n",
      "3504  White   0 to 15 mins\n",
      "6114  Other  16 to 30 mins\n",
      "2511  Other   0 to 15 mins\n",
      "1181  Other  16 to 30 mins\n",
      "1715  Black  16 to 30 mins\n"
     ]
    }
   ],
   "source": [
    "racefmt = {1:'White',\n",
    "           2:'Black',\n",
    "           3:'Hispanic',\n",
    "           4:'Other'}\n",
    "\n",
    "minsfmt = {1:'0 to 15 mins',\n",
    "           2:'16 to 30 mins',\n",
    "           3:'31 to 59 mins',\n",
    "           4:'60 to 119 mins',\n",
    "           5:'2 hours or more',\n",
    "           -7:'Refused',\n",
    "           -8:\"Don't know\",\n",
    "           -9:'Not ascertained'}\n",
    "\n",
    "race = df.IV_RACE.replace(racefmt)\n",
    "wait = df.ACC_D_GETUS.replace(minsfmt)\n",
    "\n",
    "wait_df = pd.DataFrame({'race': race, 'wait_time': wait})\n",
    "print(wait_df.sample(5))"
   ]
  },
  {
   "cell_type": "markdown",
   "metadata": {},
   "source": [
    "Time to clean up all the NaNs~~, and remove the `Other` category from race, just to simplify~~. Note that conditions such as `>` or `<` return False for NaN values no matter what, so they can be purged easily."
   ]
  },
  {
   "cell_type": "code",
   "execution_count": 6,
   "metadata": {
    "collapsed": false
   },
   "outputs": [
    {
     "data": {
      "text/html": [
       "<div>\n",
       "<table border=\"1\" class=\"dataframe\">\n",
       "  <thead>\n",
       "    <tr style=\"text-align: right;\">\n",
       "      <th>wait_time</th>\n",
       "      <th>0 to 15 mins</th>\n",
       "      <th>16 to 30 mins</th>\n",
       "      <th>31 to 59 mins</th>\n",
       "      <th>60 to 119 mins</th>\n",
       "      <th>2 hours or more</th>\n",
       "    </tr>\n",
       "    <tr>\n",
       "      <th>race</th>\n",
       "      <th></th>\n",
       "      <th></th>\n",
       "      <th></th>\n",
       "      <th></th>\n",
       "      <th></th>\n",
       "    </tr>\n",
       "  </thead>\n",
       "  <tbody>\n",
       "    <tr>\n",
       "      <th>Black</th>\n",
       "      <td>0.512931</td>\n",
       "      <td>0.344109</td>\n",
       "      <td>0.076149</td>\n",
       "      <td>0.046695</td>\n",
       "      <td>0.020115</td>\n",
       "    </tr>\n",
       "    <tr>\n",
       "      <th>Hispanic</th>\n",
       "      <td>0.555556</td>\n",
       "      <td>0.327350</td>\n",
       "      <td>0.054701</td>\n",
       "      <td>0.047863</td>\n",
       "      <td>0.014530</td>\n",
       "    </tr>\n",
       "    <tr>\n",
       "      <th>Other</th>\n",
       "      <td>0.568000</td>\n",
       "      <td>0.297333</td>\n",
       "      <td>0.069333</td>\n",
       "      <td>0.044000</td>\n",
       "      <td>0.021333</td>\n",
       "    </tr>\n",
       "    <tr>\n",
       "      <th>White</th>\n",
       "      <td>0.574734</td>\n",
       "      <td>0.314803</td>\n",
       "      <td>0.062858</td>\n",
       "      <td>0.028460</td>\n",
       "      <td>0.019144</td>\n",
       "    </tr>\n",
       "  </tbody>\n",
       "</table>\n",
       "</div>"
      ],
      "text/plain": [
       "wait_time  0 to 15 mins  16 to 30 mins  31 to 59 mins  60 to 119 mins  \\\n",
       "race                                                                    \n",
       "Black          0.512931       0.344109       0.076149        0.046695   \n",
       "Hispanic       0.555556       0.327350       0.054701        0.047863   \n",
       "Other          0.568000       0.297333       0.069333        0.044000   \n",
       "White          0.574734       0.314803       0.062858        0.028460   \n",
       "\n",
       "wait_time  2 hours or more  \n",
       "race                        \n",
       "Black             0.020115  \n",
       "Hispanic          0.014530  \n",
       "Other             0.021333  \n",
       "White             0.019144  "
      ]
     },
     "execution_count": 6,
     "metadata": {},
     "output_type": "execute_result"
    }
   ],
   "source": [
    "wait_df = pd.DataFrame({'race': race, 'wait_time': wait})\n",
    "wait_df = wait_df[(df.IV_RACE is not 4) & (df.ACC_D_GETUS > 0)]\n",
    "\n",
    "# now bin the values\n",
    "wait_df = wait_df.groupby('race').apply(lambda x: (x.wait_time.value_counts()))\n",
    "\n",
    "# and convert to percentages\n",
    "wait_df = wait_df.apply(lambda x: x / x.sum(), axis=1)\n",
    "wait_df"
   ]
  },
  {
   "cell_type": "code",
   "execution_count": 7,
   "metadata": {
    "collapsed": false
   },
   "outputs": [
    {
     "data": {
      "image/png": "[encoded data removed]",
      "text/plain": [
       "<matplotlib.figure.Figure at 0x7fce659ba4d0>"
      ]
     },
     "metadata": {},
     "output_type": "display_data"
    }
   ],
   "source": [
    "fig, ax = plt.subplots(1, 1, figsize=(12, 4))\n",
    "\n",
    "wait_df.plot(kind='barh', stacked=True, legend=False, ax=ax, colormap='RdYlGn_r')\n",
    "ax.set_xlabel('Fraction')\n",
    "ax.set_xlim(0, 1)\n",
    "ax.set_ylabel('Race')\n",
    "\n",
    "fig.subplots_adjust(right=0.85)\n",
    "\n",
    "legend = fig.legend(*ax.get_legend_handles_labels(), loc='center right')\n",
    "legend.set_title('Wait time')\n",
    "legend.set_alpha(1.0)"
   ]
  },
  {
   "cell_type": "markdown",
   "metadata": {
    "collapsed": true
   },
   "source": [
    "We can also plot the transpose version of this:"
   ]
  },
  {
   "cell_type": "code",
   "execution_count": 8,
   "metadata": {
    "collapsed": false
   },
   "outputs": [
    {
     "data": {
      "text/plain": [
       "<matplotlib.text.Text at 0x7fce65886e10>"
      ]
     },
     "execution_count": 8,
     "metadata": {},
     "output_type": "execute_result"
    },
    {
     "data": {
      "image/png": "[encoded data removed]",
      "text/plain": [
       "<matplotlib.figure.Figure at 0x7fce65d0fd10>"
      ]
     },
     "metadata": {},
     "output_type": "display_data"
    }
   ],
   "source": [
    "wait_df = pd.DataFrame({'race': race, 'wait_time': wait})\n",
    "wait_df = wait_df[(df.IV_RACE is not 4) & (df.ACC_D_GETUS > 0)]\n",
    "\n",
    "# now bin the values\n",
    "wait_df = wait_df.groupby('wait_time').apply(lambda x: (x.race.value_counts()))\n",
    "\n",
    "# and convert to percentages\n",
    "wait_df = wait_df.apply(lambda x: x / x.sum(), axis=0).sort_values(by='White')\n",
    "\n",
    "# and plot\n",
    "fig, ax = plt.subplots(1, 1, figsize=(8, 5))\n",
    "wait_df.plot(kind='barh', ax=ax, )\n",
    "\n",
    "ax.grid('on', axis='x')\n",
    "ax.set_xlim(0, 0.6)\n",
    "ax.set_xlabel('Fraction')\n",
    "ax.set_ylabel('Wait time')"
   ]
  },
  {
   "cell_type": "markdown",
   "metadata": {},
   "source": [
    "I recall that the student used three bins: `< 1 hr`, `1 - 2 hrs`, and `> 2 hrs`. Let's try this too:"
   ]
  },
  {
   "cell_type": "code",
   "execution_count": 9,
   "metadata": {
    "collapsed": false
   },
   "outputs": [
    {
     "data": {
      "text/html": [
       "<div>\n",
       "<table border=\"1\" class=\"dataframe\">\n",
       "  <thead>\n",
       "    <tr style=\"text-align: right;\">\n",
       "      <th>wait_time</th>\n",
       "      <th>&lt; 1 hr</th>\n",
       "      <th>1 - 2 hrs</th>\n",
       "      <th>&gt; 2 hrs</th>\n",
       "    </tr>\n",
       "    <tr>\n",
       "      <th>race</th>\n",
       "      <th></th>\n",
       "      <th></th>\n",
       "      <th></th>\n",
       "    </tr>\n",
       "  </thead>\n",
       "  <tbody>\n",
       "    <tr>\n",
       "      <th>Black</th>\n",
       "      <td>0.933190</td>\n",
       "      <td>0.046695</td>\n",
       "      <td>0.020115</td>\n",
       "    </tr>\n",
       "    <tr>\n",
       "      <th>Hispanic</th>\n",
       "      <td>0.937607</td>\n",
       "      <td>0.047863</td>\n",
       "      <td>0.014530</td>\n",
       "    </tr>\n",
       "    <tr>\n",
       "      <th>Other</th>\n",
       "      <td>0.934667</td>\n",
       "      <td>0.044000</td>\n",
       "      <td>0.021333</td>\n",
       "    </tr>\n",
       "    <tr>\n",
       "      <th>White</th>\n",
       "      <td>0.952396</td>\n",
       "      <td>0.028460</td>\n",
       "      <td>0.019144</td>\n",
       "    </tr>\n",
       "  </tbody>\n",
       "</table>\n",
       "</div>"
      ],
      "text/plain": [
       "wait_time    < 1 hr  1 - 2 hrs   > 2 hrs\n",
       "race                                    \n",
       "Black      0.933190   0.046695  0.020115\n",
       "Hispanic   0.937607   0.047863  0.014530\n",
       "Other      0.934667   0.044000  0.021333\n",
       "White      0.952396   0.028460  0.019144"
      ]
     },
     "execution_count": 9,
     "metadata": {},
     "output_type": "execute_result"
    },
    {
     "data": {
      "image/png": "[encoded data removed]",
      "text/plain": [
       "<matplotlib.figure.Figure at 0x7fce659393d0>"
      ]
     },
     "metadata": {},
     "output_type": "display_data"
    }
   ],
   "source": [
    "wait_df = pd.DataFrame({'race': race, 'wait_time': wait})\n",
    "wait_df = wait_df[(df.IV_RACE is not 4) & (df.ACC_D_GETUS > 0)]\n",
    "\n",
    "# bin the values\n",
    "wait_df = wait_df.groupby('race').apply(lambda x: (x.wait_time.value_counts()))\n",
    "\n",
    "# change the binning\n",
    "wait_df['< 1 hr'] = wait_df[['0 to 15 mins', '16 to 30 mins', '31 to 59 mins']].sum(axis=1)\n",
    "wait_df['1 - 2 hrs'] = wait_df['60 to 119 mins']\n",
    "wait_df['> 2 hrs'] = wait_df['2 hours or more']\n",
    "\n",
    "wait_df.drop(['0 to 15 mins', '16 to 30 mins', '31 to 59 mins', '60 to 119 mins', '2 hours or more'], axis=1, inplace=True)\n",
    "\n",
    "# and convert to percentages\n",
    "wait_df = wait_df.apply(lambda x: x / x.sum(), axis=1)\n",
    "\n",
    "\n",
    "# plot as above\n",
    "fig, ax = plt.subplots(1, 1, figsize=(12, 4))\n",
    "\n",
    "# create rgb colormap\n",
    "from matplotlib.colors import ListedColormap\n",
    "rgb_cmap = ListedColormap([np.array([48., 147., 67.]) / 255.,\n",
    "                           np.array([255., 193., 86.]) / 255., \n",
    "                           np.array([214., 39., 40.]) / 255.], name='rgb_cmap')\n",
    "\n",
    "wait_df.plot(kind='barh', stacked=True, legend=False, ax=ax, colormap=rgb_cmap)\n",
    "ax.set_xlabel('Fraction')\n",
    "ax.set_xlim(0.75, 1)\n",
    "ax.set_ylabel('Race')\n",
    "ax.grid('on', axis='x')\n",
    "\n",
    "fig.subplots_adjust(right=0.85)\n",
    "\n",
    "legend = fig.legend(*ax.get_legend_handles_labels(), loc='center right')\n",
    "legend.set_title('Wait time')\n",
    "legend.set_alpha(1.0)\n",
    "\n",
    "# show table\n",
    "wait_df"
   ]
  },
  {
   "cell_type": "markdown",
   "metadata": {},
   "source": [
    "To me, it looks like there exists some disparity in wait times. A larger fraction of White patients wait for under an hour compared to Black, Hispanic, and Other populations. Fewer people in the White category also wait 1-2 hours. However, for over two hour waits, they do not seem to have the \"advantage\" anymore."
   ]
  }
 ],
 "metadata": {
  "kernelspec": {
   "display_name": "Python 2",
   "language": "python",
   "name": "python2"
  },
  "language_info": {
   "codemirror_mode": {
    "name": "ipython",
    "version": 2
   },
   "file_extension": ".py",
   "mimetype": "text/x-python",
   "name": "python",
   "nbconvert_exporter": "python",
   "pygments_lexer": "ipython2",
   "version": "2.7.13"
  }
 },
 "nbformat": 4,
 "nbformat_minor": 2
}
